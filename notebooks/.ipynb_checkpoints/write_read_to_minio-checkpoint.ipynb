{
 "cells": [
  {
   "cell_type": "code",
   "execution_count": null,
   "id": "3bce27ad-2ef9-42c1-82a9-15ced3f15f0d",
   "metadata": {},
   "outputs": [],
   "source": [
    "import pyspark\n",
    "from pyspark.sql import Column, DataFrame, SparkSession, functions\n",
    "from pyspark.sql.functions import *\n",
    "from py4j.java_collections import MapConverter\n",
    "import shutil\n",
    "import random\n",
    "import threading\n",
    "conf = pyspark.SparkConf()\n",
    "conf.setMaster(\"spark://spark:7077\") \n",
    "\n",
    "conf.set(\"spark.hadoop.fs.s3a.endpoint\", 'http://minio:9000') \\\n",
    "    .set(\"spark.hadoop.fs.s3a.access.key\", 'minio_access_key') \\\n",
    "    .set(\"spark.hadoop.fs.s3a.secret.key\", 'minio_secret_key') \\\n",
    "    .set(\"spark.hadoop.fs.s3a.fast.upload\", True) \\\n",
    "    .set(\"spark.hadoop.fs.s3a.path.style.access\", True) \\\n",
    "    .set(\"spark.hadoop.fs.s3a.impl\", \"org.apache.hadoop.fs.s3a.S3AFileSystem\") \\\n",
    "    .set(\"spark.sql.extensions\", \"io.delta.sql.DeltaSparkSessionExtension\") \\\n",
    "    .set(\"spark.sql.catalog.spark_catalog\", \"org.apache.spark.sql.delta.catalog.DeltaCatalog\")\n",
    "sc = pyspark.SparkContext(conf=conf)"
   ]
  },
  {
   "cell_type": "code",
   "execution_count": null,
   "id": "d2bf6254-be9f-4876-a02c-70f6e727db89",
   "metadata": {},
   "outputs": [],
   "source": [
    "from pyspark.sql import SparkSession\n",
    "spark = SparkSession(sc).builder.appName(\"streaming\").getOrCreate()\n",
    "from delta.tables import *"
   ]
  },
  {
   "cell_type": "code",
   "execution_count": null,
   "id": "6ab9fbfd-f0ce-44dd-b7c9-e9e8e684dae4",
   "metadata": {},
   "outputs": [],
   "source": [
    "from pyspark.sql.utils import AnalysisException\n",
    "\n",
    "##start stream from streaming data frame\n",
    "def get_from_raw_to_delta_stream(streamingRawDF,checkpointLocation, data_uri , partitioned_by):\n",
    "      stream=streamingRawDF.writeStream \\\n",
    "      .format(\"delta\") \\\n",
    "      .outputMode(\"append\") \\\n",
    "      .partitionBy(partitioned_by) \\\n",
    "      .option(\"overwriteSchema\", \"true\") \\\n",
    "      .trigger(once=True) \\\n",
    "      .options(ignoreDeletes=True) \\\n",
    "      .option(\"checkpointLocation\", checkpointLocation).start(data_uri)\n",
    "      return (stream)\n",
    "\n",
    "##read stream\n",
    "def get_streaming_df(OBJECTURL, format='json'):\n",
    "    if (format in ('json','csv')):\n",
    "        schema=(spark.read.format('json').load(OBJECTURL).schema)\n",
    "        return(spark.readStream.format(format).schema(schema).load(OBJECTURL))\n",
    "    else:\n",
    "        return(spark.readStream.format(format).load(OBJECTURL))\n",
    "    return streamingRawDF\n",
    "##define delta table according to path\n",
    "def getDeltaTableFromPath(path):\n",
    "    deltaTable=None\n",
    "    try:\n",
    "        deltaTable = DeltaTable.forPath(spark, path)\n",
    "    except AnalysisException as error:\n",
    "        if(\"is not a Delta table\" in str(error)):\n",
    "            print('1st time we call, not yet created')\n",
    "        else:\n",
    "            raise(error)\n",
    "    return (deltaTable)\n",
    "## upsert (insert if new, update if already exist)\n",
    "def mergetoDF(microDF, batchId):\n",
    "    print(f\"inside foreachBatch for batchId{batchId}. rows passed={microDF.count()}\")\n",
    "    microDF=microDF.dropDuplicates([\"id\"])\n",
    "    deltaDf.alias(\"t\").merge(microDF.alias(\"s\"), \"s.id = t.id\")\\\n",
    "        .whenMatchedUpdateAll()\\\n",
    "        .whenNotMatchedInsertAll()\\\n",
    "        .execute()\n",
    "#generate the path of the table\n",
    "#table_category=raw/bronze/silver/gold\n",
    "def get_uri(table_name, table_category='raw',is_checkpoint=False ,base_uri='s3a://minio-sink-bucket/'):\n",
    "    uri=base_uri\n",
    "    if(table_category=='raw'):\n",
    "        uri=uri + 'topics/' \n",
    "    else:\n",
    "        uri=uri + table_category + '/' \n",
    "        if(is_checkpoint):\n",
    "            uri=uri+'checkpoint/'\n",
    "        else:\n",
    "            uri=uri+'data/'\n",
    "    return(uri+ table_name)\n",
    "#get the topic rellevant tables\n",
    "def get_tables_uri (table_name):\n",
    "    raw_table=get_uri(table_name)\n",
    "    bronze_table=get_uri(table_name,table_category='bronze')\n",
    "    bronze_table_checkpoint=get_uri(table_name,table_category='bronze',is_checkpoint=True)\n",
    "    silver_table=get_uri(table_name,table_category='silver')\n",
    "    silver_table_checkpoint=get_uri(table_name,table_category='silver',is_checkpoint=True)\n",
    "    return(raw_table, bronze_table, bronze_table_checkpoint, silver_table,silver_table_checkpoint )\n",
    "\n",
    "#in order to use with hive, we need to generate manifest\n",
    "def generateManifest(table_url='s3a://minio-sink-bucket/silver/data/customers'):\n",
    "    deltaTable = getDeltaTableFromPath(table_url)\n",
    "    deltaTable.generate(\"symlink_format_manifest\")"
   ]
  },
  {
   "cell_type": "code",
   "execution_count": null,
   "id": "026e95db-612d-40d0-9ce8-bcb8f263e33c",
   "metadata": {},
   "outputs": [],
   "source": [
    "raw_table, bronze_table, bronze_table_checkpoint, silver_table,silver_table_checkpoint=get_tables_uri (table_name='customers')\n",
    "\n",
    "streamingCustRawDF=get_streaming_df(raw_table)\n",
    "streamingCustRawDF=streamingCustRawDF.select(col(\"after.id\"), col(\"after.first_name\"), col(\"after.last_name\"), \\\n",
    "                             col(\"after.email\")).withColumn('inserted', current_timestamp())\n",
    "partitioned_by=['last_name', 'first_name']\n",
    "stream=get_from_raw_to_delta_stream(streamingCustRawDF,checkpointLocation=bronze_table_checkpoint, \\\n",
    "                         data_uri=bronze_table, \\\n",
    "                          partitioned_by=partitioned_by)\n",
    "stream.awaitTermination()"
   ]
  },
  {
   "cell_type": "code",
   "execution_count": null,
   "id": "3527f1f1-c75b-4ee6-beb8-8b05dee5bfa8",
   "metadata": {},
   "outputs": [],
   "source": [
    "deltaTable=getDeltaTableFromPath(bronze_table)\n",
    "print(\"#############  Original Delta Table ###############\")\n",
    "deltaTable.toDF().show()"
   ]
  },
  {
   "cell_type": "code",
   "execution_count": null,
   "id": "6f04876c-5d8a-4122-bef2-18aa69da101b",
   "metadata": {},
   "outputs": [],
   "source": [
    "customer_stream_df=get_streaming_df(bronze_table, 'delta')"
   ]
  },
  {
   "cell_type": "code",
   "execution_count": null,
   "id": "5794d4cf-4d7b-4c69-9761-fd85a5785ef1",
   "metadata": {},
   "outputs": [],
   "source": [
    "deltaDf = getDeltaTableFromPath(silver_table)\n",
    "data_stream_writer=customer_stream_df.writeStream \\\n",
    "      .format(\"delta\") \\\n",
    "      .outputMode(\"append\") \\\n",
    "      .trigger(once=True) \\\n",
    "      .option(\"checkpointLocation\", silver_table_checkpoint) \n",
    "if not deltaDf:\n",
    "      print('first time, creating table')\n",
    "      data_stream_writer.start(silver_table)\n",
    "else:\n",
    "    print('not first time, merging data')\n",
    "    data_stream_writer.foreachBatch(mergetoDF).start()\n",
    "generateManifest(table_url=silver_table)"
   ]
  },
  {
   "cell_type": "markdown",
   "id": "e538d0f5-af3d-403f-8469-68aeae6b8c73",
   "metadata": {},
   "source": [
    "orders table"
   ]
  },
  {
   "cell_type": "code",
   "execution_count": null,
   "id": "9a9fe31a-96cc-450e-bae6-3ea13c1355b0",
   "metadata": {},
   "outputs": [],
   "source": [
    "table_name='orders'\n",
    "raw_table, bronze_table, bronze_table_checkpoint, silver_table,silver_table_checkpoint=get_tables_uri (table_name='orders')\n",
    "streamingCustRawDF=get_streaming_df(raw_table)\n",
    "streamingOrderRawDF=streamingCustRawDF.select(col(\"after.order_number\"), col(\"after.order_date\"), col(\"after.purchaser\"), \\\n",
    "                             col(\"after.product_id\"))\n",
    "partitioned_by=['purchaser']\n",
    "stream=get_from_raw_to_delta_stream(streamingOrderRawDF,checkpointLocation=bronze_table_checkpoint, \\\n",
    "                         data_uri=bronze_table, \\\n",
    "                          partitioned_by=partitioned_by)\n",
    "stream.awaitTermination()\n",
    "\n",
    "deltaDf = getDeltaTableFromPath(bronze_table)\n",
    "deltaDf.toDF().show()\n",
    "orderDeltaDf=None\n",
    "order_stream_df=get_streaming_df(bronze_table, 'delta')\n",
    "def orderMergetoDF(microDF, batchId):\n",
    "    print(f\"inside foreachBatch for batchId{batchId}. rows passed={microDF.count()}\")\n",
    "    microDF=microDF.dropDuplicates([\"order_number\"])\n",
    "    orderDeltaDf.alias(\"t\").merge(microDF.alias(\"s\"), \"s.order_number = t.order_number\")\\\n",
    "        .whenMatchedUpdateAll()\\\n",
    "        .whenNotMatchedInsertAll()\\\n",
    "        .execute()\n",
    "orderDeltaDf = getDeltaTableFromPath(silver_table)\n",
    "data_stream_writer=order_stream_df.writeStream \\\n",
    "      .format(\"delta\") \\\n",
    "      .outputMode(\"append\") \\\n",
    "      .trigger(once=True) \\\n",
    "      .option(\"checkpointLocation\", silver_table_checkpoint) \n",
    "if not orderDeltaDf:\n",
    "      print('first time, creating table')\n",
    "      data_stream_writer.start(silver_table)\n",
    "else:\n",
    "    print('not first time, merging data')\n",
    "    data_stream_writer.foreachBatch(orderMergetoDF).start()     "
   ]
  },
  {
   "cell_type": "code",
   "execution_count": null,
   "id": "43e7ab12-1f4c-4d5e-a3c3-c6b2ba0484f6",
   "metadata": {},
   "outputs": [],
   "source": [
    "generateManifest(table_url=silver_table)"
   ]
  },
  {
   "cell_type": "code",
   "execution_count": null,
   "id": "91c92b75-4179-4895-b4c3-2557220ef93c",
   "metadata": {},
   "outputs": [],
   "source": []
  }
 ],
 "metadata": {
  "kernelspec": {
   "display_name": "Python 3 (ipykernel)",
   "language": "python",
   "name": "python3"
  },
  "language_info": {
   "codemirror_mode": {
    "name": "ipython",
    "version": 3
   },
   "file_extension": ".py",
   "mimetype": "text/x-python",
   "name": "python",
   "nbconvert_exporter": "python",
   "pygments_lexer": "ipython3",
   "version": "3.9.7"
  }
 },
 "nbformat": 4,
 "nbformat_minor": 5
}
