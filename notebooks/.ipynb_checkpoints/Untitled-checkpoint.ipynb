{
 "cells": [
  {
   "cell_type": "code",
   "execution_count": 4,
   "id": "86649d60-500b-48bf-9c60-2b5ce148cccd",
   "metadata": {},
   "outputs": [
    {
     "ename": "ValueError",
     "evalue": "('Cannot run multiple SparkContexts at once; existing SparkContext(app=spylon-kernel, master=local[*]) created by __init__ at /opt/conda/lib/python3.9/site-packages/spylon/spark/launcher.py:521 ',)",
     "output_type": "error",
     "traceback": [
      "Traceback (most recent call last):",
      "  File \"python cell\", line 19, in <module>",
      "  File \"/usr/local/spark/python/pyspark/context.py\", line 144, in __init__\n    SparkContext._ensure_initialized(self, gateway=gateway, conf=conf)",
      "  File \"/usr/local/spark/python/pyspark/context.py\", line 350, in _ensure_initialized\n    raise ValueError(",
      "ValueError: Cannot run multiple SparkContexts at once; existing SparkContext(app=spylon-kernel, master=local[*]) created by __init__ at /opt/conda/lib/python3.9/site-packages/spylon/spark/launcher.py:521 "
     ]
    }
   ],
   "source": [
    "%%python\n",
    "import pyspark\n",
    "from pyspark.sql import Column, DataFrame, SparkSession, functions\n",
    "from pyspark.sql.functions import *\n",
    "from py4j.java_collections import MapConverter\n",
    "import shutil\n",
    "import random\n",
    "import threading\n",
    "conf = pyspark.SparkConf()\n",
    "conf.setMaster(\"spark://spark:7077\") \n",
    "\n",
    "conf.set(\"spark.hadoop.fs.s3a.endpoint\", 'http://s3:9000') \\\n",
    "    .set(\"spark.hadoop.fs.s3a.access.key\", 'minio') \\\n",
    "    .set(\"spark.hadoop.fs.s3a.secret.key\", 'minio123') \\\n",
    "    .set(\"spark.hadoop.fs.s3a.fast.upload\", True) \\\n",
    "    .set(\"spark.hadoop.fs.s3a.path.style.access\", True) \\\n",
    "    .set(\"spark.hadoop.fs.s3a.impl\", \"org.apache.hadoop.fs.s3a.S3AFileSystem\") \\\n",
    "    .set(\"spark.sql.extensions\", \"io.delta.sql.DeltaSparkSessionExtension\") \\\n",
    "    .set(\"spark.sql.catalog.spark_catalog\", \"org.apache.spark.sql.delta.catalog.DeltaCatalog\")\n",
    "sc = pyspark.SparkContext(conf=conf)"
   ]
  },
  {
   "cell_type": "code",
   "execution_count": 9,
   "id": "b739e56a-a634-4ab4-9deb-c792f1253ea0",
   "metadata": {},
   "outputs": [
    {
     "ename": "<console>",
     "evalue": "23: error: object databricks is not a member of package com",
     "output_type": "error",
     "traceback": [
      "<console>:23: error: object databricks is not a member of package com",
      "       import com.databricks.dbutils_v1.DBUtilsHolder.dbutils",
      "                  ^",
      ""
     ]
    }
   ],
   "source": [
    "import com.databricks.dbutils_v1.DBUtilsHolder.dbutils\n",
    "\n"
   ]
  },
  {
   "cell_type": "code",
   "execution_count": null,
   "id": "6eb735bd-262f-438d-98d6-4d665cfac338",
   "metadata": {},
   "outputs": [],
   "source": []
  }
 ],
 "metadata": {
  "kernelspec": {
   "display_name": "Python 3 (ipykernel)",
   "language": "python",
   "name": "python3"
  },
  "language_info": {
   "codemirror_mode": {
    "name": "ipython",
    "version": 3
   },
   "file_extension": ".py",
   "mimetype": "text/x-python",
   "name": "python",
   "nbconvert_exporter": "python",
   "pygments_lexer": "ipython3",
   "version": "3.9.7"
  }
 },
 "nbformat": 4,
 "nbformat_minor": 5
}
