{
 "cells": [
  {
   "cell_type": "code",
   "execution_count": 1,
   "id": "578374c6-acaf-42ec-be43-5235091e5ffa",
   "metadata": {},
   "outputs": [
    {
     "name": "stdout",
     "output_type": "stream",
     "text": [
      "Collecting delta-sharing\n",
      "  Downloading delta_sharing-0.2.0-py3-none-any.whl (12 kB)\n",
      "Collecting aiohttp\n",
      "  Downloading aiohttp-3.8.1-cp39-cp39-manylinux_2_5_x86_64.manylinux1_x86_64.manylinux_2_12_x86_64.manylinux2010_x86_64.whl (1.2 MB)\n",
      "     |████████████████████████████████| 1.2 MB 280 kB/s            \n",
      "\u001b[?25hRequirement already satisfied: pandas in /opt/conda/lib/python3.9/site-packages (from delta-sharing) (1.3.4)\n",
      "Requirement already satisfied: requests in /opt/conda/lib/python3.9/site-packages (from delta-sharing) (2.26.0)\n",
      "Requirement already satisfied: pyarrow in /opt/conda/lib/python3.9/site-packages (from delta-sharing) (5.0.0)\n",
      "Requirement already satisfied: fsspec>=0.7.4 in /opt/conda/lib/python3.9/site-packages (from delta-sharing) (2021.10.1)\n",
      "Collecting async-timeout<5.0,>=4.0.0a3\n",
      "  Downloading async_timeout-4.0.1-py3-none-any.whl (5.7 kB)\n",
      "Requirement already satisfied: attrs>=17.3.0 in /opt/conda/lib/python3.9/site-packages (from aiohttp->delta-sharing) (21.2.0)\n",
      "Collecting multidict<7.0,>=4.5\n",
      "  Downloading multidict-5.2.0-cp39-cp39-manylinux_2_5_x86_64.manylinux1_x86_64.manylinux_2_12_x86_64.manylinux2010_x86_64.whl (174 kB)\n",
      "     |████████████████████████████████| 174 kB 2.0 MB/s            \n",
      "\u001b[?25hCollecting yarl<2.0,>=1.0\n",
      "  Downloading yarl-1.7.2-cp39-cp39-manylinux_2_5_x86_64.manylinux1_x86_64.manylinux_2_12_x86_64.manylinux2010_x86_64.whl (304 kB)\n",
      "     |████████████████████████████████| 304 kB 3.5 MB/s            \n",
      "\u001b[?25hCollecting aiosignal>=1.1.2\n",
      "  Downloading aiosignal-1.2.0-py3-none-any.whl (8.2 kB)\n",
      "Requirement already satisfied: charset-normalizer<3.0,>=2.0 in /opt/conda/lib/python3.9/site-packages (from aiohttp->delta-sharing) (2.0.0)\n",
      "Collecting frozenlist>=1.1.1\n",
      "  Downloading frozenlist-1.2.0-cp39-cp39-manylinux_2_5_x86_64.manylinux1_x86_64.manylinux_2_12_x86_64.manylinux2010_x86_64.whl (203 kB)\n",
      "     |████████████████████████████████| 203 kB 2.0 MB/s            \n",
      "\u001b[?25hRequirement already satisfied: python-dateutil>=2.7.3 in /opt/conda/lib/python3.9/site-packages (from pandas->delta-sharing) (2.8.2)\n",
      "Requirement already satisfied: pytz>=2017.3 in /opt/conda/lib/python3.9/site-packages (from pandas->delta-sharing) (2021.3)\n",
      "Requirement already satisfied: numpy>=1.17.3 in /opt/conda/lib/python3.9/site-packages (from pandas->delta-sharing) (1.20.3)\n",
      "Requirement already satisfied: urllib3<1.27,>=1.21.1 in /opt/conda/lib/python3.9/site-packages (from requests->delta-sharing) (1.26.7)\n",
      "Requirement already satisfied: idna<4,>=2.5 in /opt/conda/lib/python3.9/site-packages (from requests->delta-sharing) (3.1)\n",
      "Requirement already satisfied: certifi>=2017.4.17 in /opt/conda/lib/python3.9/site-packages (from requests->delta-sharing) (2021.10.8)\n",
      "Requirement already satisfied: typing-extensions>=3.6.5 in /opt/conda/lib/python3.9/site-packages (from async-timeout<5.0,>=4.0.0a3->aiohttp->delta-sharing) (3.10.0.2)\n",
      "Requirement already satisfied: six>=1.5 in /opt/conda/lib/python3.9/site-packages (from python-dateutil>=2.7.3->pandas->delta-sharing) (1.16.0)\n",
      "Installing collected packages: multidict, frozenlist, yarl, async-timeout, aiosignal, aiohttp, delta-sharing\n",
      "Successfully installed aiohttp-3.8.1 aiosignal-1.2.0 async-timeout-4.0.1 delta-sharing-0.2.0 frozenlist-1.2.0 multidict-5.2.0 yarl-1.7.2\n"
     ]
    }
   ],
   "source": [
    "!pip install delta-sharing\n"
   ]
  },
  {
   "cell_type": "code",
   "execution_count": 2,
   "id": "4b117ec6-6ce6-4ea0-8ecf-513db5007fcb",
   "metadata": {},
   "outputs": [
    {
     "name": "stdout",
     "output_type": "stream",
     "text": [
      "[Table(name='COVID_19_NYT', share='delta_sharing', schema='default'), Table(name='boston-housing', share='delta_sharing', schema='default'), Table(name='flight-asa_2008', share='delta_sharing', schema='default'), Table(name='lending_club', share='delta_sharing', schema='default'), Table(name='nyctaxi_2019', share='delta_sharing', schema='default'), Table(name='nyctaxi_2019_part', share='delta_sharing', schema='default'), Table(name='owid-covid-data', share='delta_sharing', schema='default')]\n",
      "      iso_code      continent       location        date  total_cases  \\\n",
      "83143      USA  North America  United States  2020-01-22          1.0   \n",
      "83144      USA  North America  United States  2020-01-23          1.0   \n",
      "83145      USA  North America  United States  2020-01-24          2.0   \n",
      "83146      USA  North America  United States  2020-01-25          2.0   \n",
      "83147      USA  North America  United States  2020-01-26          5.0   \n",
      "83148      USA  North America  United States  2020-01-27          5.0   \n",
      "83149      USA  North America  United States  2020-01-28          5.0   \n",
      "83150      USA  North America  United States  2020-01-29          6.0   \n",
      "83151      USA  North America  United States  2020-01-30          6.0   \n",
      "83152      USA  North America  United States  2020-01-31          8.0   \n",
      "\n",
      "       new_cases  new_cases_smoothed  total_deaths  new_deaths  \\\n",
      "83143        NaN                 NaN           NaN         NaN   \n",
      "83144        0.0                 NaN           NaN         NaN   \n",
      "83145        1.0                 NaN           NaN         NaN   \n",
      "83146        0.0                 NaN           NaN         NaN   \n",
      "83147        3.0                 NaN           NaN         NaN   \n",
      "83148        0.0                 NaN           NaN         NaN   \n",
      "83149        0.0               0.571           NaN         NaN   \n",
      "83150        1.0               0.714           NaN         NaN   \n",
      "83151        0.0               0.714           NaN         NaN   \n",
      "83152        2.0               0.857           NaN         NaN   \n",
      "\n",
      "       new_deaths_smoothed  ...  gdp_per_capita  extreme_poverty  \\\n",
      "83143                  NaN  ...       54225.446              1.2   \n",
      "83144                  NaN  ...       54225.446              1.2   \n",
      "83145                  NaN  ...       54225.446              1.2   \n",
      "83146                  NaN  ...       54225.446              1.2   \n",
      "83147                  NaN  ...       54225.446              1.2   \n",
      "83148                  NaN  ...       54225.446              1.2   \n",
      "83149                  0.0  ...       54225.446              1.2   \n",
      "83150                  0.0  ...       54225.446              1.2   \n",
      "83151                  0.0  ...       54225.446              1.2   \n",
      "83152                  0.0  ...       54225.446              1.2   \n",
      "\n",
      "       cardiovasc_death_rate  diabetes_prevalence  female_smokers  \\\n",
      "83143                151.089                10.79            19.1   \n",
      "83144                151.089                10.79            19.1   \n",
      "83145                151.089                10.79            19.1   \n",
      "83146                151.089                10.79            19.1   \n",
      "83147                151.089                10.79            19.1   \n",
      "83148                151.089                10.79            19.1   \n",
      "83149                151.089                10.79            19.1   \n",
      "83150                151.089                10.79            19.1   \n",
      "83151                151.089                10.79            19.1   \n",
      "83152                151.089                10.79            19.1   \n",
      "\n",
      "       male_smokers  handwashing_facilities  hospital_beds_per_thousand  \\\n",
      "83143          24.6                     NaN                        2.77   \n",
      "83144          24.6                     NaN                        2.77   \n",
      "83145          24.6                     NaN                        2.77   \n",
      "83146          24.6                     NaN                        2.77   \n",
      "83147          24.6                     NaN                        2.77   \n",
      "83148          24.6                     NaN                        2.77   \n",
      "83149          24.6                     NaN                        2.77   \n",
      "83150          24.6                     NaN                        2.77   \n",
      "83151          24.6                     NaN                        2.77   \n",
      "83152          24.6                     NaN                        2.77   \n",
      "\n",
      "       life_expectancy  human_development_index  \n",
      "83143            78.86                    0.926  \n",
      "83144            78.86                    0.926  \n",
      "83145            78.86                    0.926  \n",
      "83146            78.86                    0.926  \n",
      "83147            78.86                    0.926  \n",
      "83148            78.86                    0.926  \n",
      "83149            78.86                    0.926  \n",
      "83150            78.86                    0.926  \n",
      "83151            78.86                    0.926  \n",
      "83152            78.86                    0.926  \n",
      "\n",
      "[10 rows x 59 columns]\n"
     ]
    }
   ],
   "source": [
    "import delta_sharing\n",
    "# Point to the profile file, location also works with http(s)\n",
    "profile_file = 'https://raw.githubusercontent.com/delta-io/delta-sharing/main/examples/open-datasets.share'\n",
    "# Create a SharingClient.\n",
    "client = delta_sharing.SharingClient(profile_file)\n",
    "# List all shared tables.\n",
    "print(client.list_all_tables())\n",
    "# load data as pandas dataframe (or Spark)\n",
    "table_url = profile_file + '#delta_sharing.default.owid-covid-data'\n",
    "data = delta_sharing.load_as_pandas(table_url)\n",
    "# display filtered data\n",
    "print(data[data['iso_code'] == 'USA'].head(10))"
   ]
  },
  {
   "cell_type": "code",
   "execution_count": 3,
   "id": "ca31e989-c54c-40f6-b2c6-76652a46d611",
   "metadata": {},
   "outputs": [
    {
     "data": {
      "text/plain": [
       "[Table(name='COVID_19_NYT', share='delta_sharing', schema='default'),\n",
       " Table(name='boston-housing', share='delta_sharing', schema='default'),\n",
       " Table(name='flight-asa_2008', share='delta_sharing', schema='default'),\n",
       " Table(name='lending_club', share='delta_sharing', schema='default'),\n",
       " Table(name='nyctaxi_2019', share='delta_sharing', schema='default'),\n",
       " Table(name='nyctaxi_2019_part', share='delta_sharing', schema='default'),\n",
       " Table(name='owid-covid-data', share='delta_sharing', schema='default')]"
      ]
     },
     "execution_count": 3,
     "metadata": {},
     "output_type": "execute_result"
    }
   ],
   "source": [
    "client.list_all_tables()"
   ]
  },
  {
   "cell_type": "code",
   "execution_count": null,
   "id": "173fc5c2-ce3b-491a-98e2-e49dd5ef6805",
   "metadata": {},
   "outputs": [],
   "source": []
  }
 ],
 "metadata": {
  "kernelspec": {
   "display_name": "Python 3 (ipykernel)",
   "language": "python",
   "name": "python3"
  },
  "language_info": {
   "codemirror_mode": {
    "name": "ipython",
    "version": 3
   },
   "file_extension": ".py",
   "mimetype": "text/x-python",
   "name": "python",
   "nbconvert_exporter": "python",
   "pygments_lexer": "ipython3",
   "version": "3.9.7"
  }
 },
 "nbformat": 4,
 "nbformat_minor": 5
}
